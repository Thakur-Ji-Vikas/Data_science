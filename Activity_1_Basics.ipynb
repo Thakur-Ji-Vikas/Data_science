{
 "cells": [
  {
   "cell_type": "code",
   "execution_count": 1,
   "id": "a3c49c41",
   "metadata": {},
   "outputs": [],
   "source": [
    "#Class activity\n",
    "def logistics_provider():\n",
    "    print(\"Enter 1 for milk\")\n",
    "    print(\"Enter 2 for cookies\")\n",
    "    a = int(input(\"Enter the choice : \"))\n",
    "    if a==1:\n",
    "        print(\"You have allocated milk\")\n",
    "    elif a==2:\n",
    "        print(\"You have allocated cookies\")\n",
    "    else:\n",
    "        print(\"Wrong choice  :  try again .\")"
   ]
  },
  {
   "cell_type": "code",
   "execution_count": 2,
   "id": "a005f75d",
   "metadata": {},
   "outputs": [
    {
     "name": "stdout",
     "output_type": "stream",
     "text": [
      "Enter 1 for milk\n",
      "Enter 2 for cookies\n",
      "Enter the choice : 5\n",
      "Wrong choice  :  try again .\n"
     ]
    }
   ],
   "source": [
    "logistics_provider()"
   ]
  },
  {
   "cell_type": "code",
   "execution_count": 4,
   "id": "0099c84e",
   "metadata": {},
   "outputs": [
    {
     "name": "stdout",
     "output_type": "stream",
     "text": [
      "The name is  VIKAS\n",
      "The age is  21\n",
      "The major is  CSE\n"
     ]
    }
   ],
   "source": [
    "#Dictionary in python\n",
    "student = { \"name\":\"VIKAS\",\"age\":21,\"major\":\"CSE\"}\n",
    "\n",
    "print(\"The name is \",student[\"name\"])\n",
    "print(\"The age is \",student[\"age\"])\n",
    "print(\"The major is \",student[\"major\"])"
   ]
  },
  {
   "cell_type": "code",
   "execution_count": 5,
   "id": "8ae7f817",
   "metadata": {},
   "outputs": [
    {
     "name": "stdout",
     "output_type": "stream",
     "text": [
      "The updated dictionary is  {'name': 'VIKAS', 'age': 22, 'major': 'CSE'}\n"
     ]
    }
   ],
   "source": [
    "student[\"age\"] = 22\n",
    "print(\"The updated dictionary is \",student)"
   ]
  },
  {
   "cell_type": "code",
   "execution_count": 6,
   "id": "5ec04fd9",
   "metadata": {},
   "outputs": [
    {
     "name": "stdout",
     "output_type": "stream",
     "text": [
      "Enter any value 3\n",
      "Banana\n"
     ]
    }
   ],
   "source": [
    "market = {1:\"Milk\",2:\"Cookies\",3:\"Banana\",4:\"Apples\"}\n",
    "b = int(input(\"Enter any value \"))\n",
    "print(market[b])"
   ]
  },
  {
   "cell_type": "code",
   "execution_count": 7,
   "id": "cf6d02fc",
   "metadata": {},
   "outputs": [
    {
     "data": {
      "text/plain": [
       "['A', 'B', 'C', 'D']"
      ]
     },
     "execution_count": 7,
     "metadata": {},
     "output_type": "execute_result"
    }
   ],
   "source": [
    "#Using List in Python\n",
    "data = ['A','B','C','D']\n",
    "data"
   ]
  },
  {
   "cell_type": "code",
   "execution_count": 8,
   "id": "49aee4b3",
   "metadata": {},
   "outputs": [
    {
     "data": {
      "text/plain": [
       "['A', 'B', 'C', 'D', 'E']"
      ]
     },
     "execution_count": 8,
     "metadata": {},
     "output_type": "execute_result"
    }
   ],
   "source": [
    "data.append('E')\n",
    "data\n"
   ]
  },
  {
   "cell_type": "code",
   "execution_count": 9,
   "id": "580c1e16",
   "metadata": {},
   "outputs": [
    {
     "data": {
      "text/plain": [
       "'E'"
      ]
     },
     "execution_count": 9,
     "metadata": {},
     "output_type": "execute_result"
    }
   ],
   "source": [
    "data.pop()"
   ]
  },
  {
   "cell_type": "code",
   "execution_count": 14,
   "id": "922fd41b",
   "metadata": {},
   "outputs": [
    {
     "data": {
      "text/plain": [
       "array([ 1,  4,  9, 16, 25])"
      ]
     },
     "execution_count": 14,
     "metadata": {},
     "output_type": "execute_result"
    }
   ],
   "source": [
    "import numpy as np\n",
    "arr = np.array([1,2,3,4,5])\n",
    "squared = arr **2\n",
    "squared_array=([ 1,  4,  9, 16, 25])\n",
    "mean = np.mean(arr)\n",
    "squared"
   ]
  },
  {
   "cell_type": "code",
   "execution_count": null,
   "id": "75e7a3e0",
   "metadata": {},
   "outputs": [],
   "source": [
    "#File Handling in Python\n",
    "with open(\"note.txt\",\"r\") as file:\n",
    "    data= file.read()\n",
    "data\n"
   ]
  },
  {
   "cell_type": "code",
   "execution_count": null,
   "id": "f68d18c9",
   "metadata": {},
   "outputs": [],
   "source": [
    "\n",
    "processed_data = data.upper()\n",
    "with open(\"processed_data.txt\",\"w\") as file:\n",
    "    file.write(processed_data)\n",
    "print(\"File processing completed.\")"
   ]
  }
 ],
 "metadata": {
  "kernelspec": {
   "display_name": "Python 3 (ipykernel)",
   "language": "python",
   "name": "python3"
  },
  "language_info": {
   "codemirror_mode": {
    "name": "ipython",
    "version": 3
   },
   "file_extension": ".py",
   "mimetype": "text/x-python",
   "name": "python",
   "nbconvert_exporter": "python",
   "pygments_lexer": "ipython3",
   "version": "3.11.3"
  }
 },
 "nbformat": 4,
 "nbformat_minor": 5
}
