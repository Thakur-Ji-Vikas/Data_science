{
 "cells": [
  {
   "cell_type": "markdown",
   "id": "d5b6505f",
   "metadata": {},
   "source": [
    "# Mathematical operations on sample data"
   ]
  },
  {
   "cell_type": "code",
   "execution_count": null,
   "id": "19199b87",
   "metadata": {},
   "outputs": [],
   "source": [
    "\n",
    "\n",
    "import numpy as np\n",
    "import scipy.stats as stats"
   ]
  },
  {
   "cell_type": "code",
   "execution_count": 7,
   "id": "a616930c",
   "metadata": {},
   "outputs": [],
   "source": [
    "# sample data\n",
    "data=[10,15,20,25,30,40,50]\n"
   ]
  },
  {
   "cell_type": "code",
   "execution_count": 8,
   "id": "187cfaf7",
   "metadata": {},
   "outputs": [
    {
     "name": "stdout",
     "output_type": "stream",
     "text": [
      "The Mean : 27.142857142857142\n"
     ]
    }
   ],
   "source": [
    "# mean\n",
    "mean_value=np.mean(data)\n",
    "print(\"The Mean :\",mean_value)"
   ]
  },
  {
   "cell_type": "code",
   "execution_count": 9,
   "id": "6fc7d18b",
   "metadata": {},
   "outputs": [
    {
     "name": "stdout",
     "output_type": "stream",
     "text": [
      "The Median : 25.0\n"
     ]
    }
   ],
   "source": [
    "# Median\n",
    "median_value=np.median(data)\n",
    "print(\"The Median :\",median_value)"
   ]
  },
  {
   "cell_type": "code",
   "execution_count": 10,
   "id": "1a96e488",
   "metadata": {},
   "outputs": [
    {
     "name": "stdout",
     "output_type": "stream",
     "text": [
      "Standard deviation : 13.054047773212188\n"
     ]
    }
   ],
   "source": [
    "# Standard Deviation\n",
    "std_dev=np.std(data)\n",
    "print(\"Standard deviation :\",std_dev)"
   ]
  },
  {
   "cell_type": "code",
   "execution_count": 19,
   "id": "d893b34b",
   "metadata": {},
   "outputs": [],
   "source": [
    "# Sample data\n",
    "sample_data=[10,15,20,25,30,35,40]\n",
    "\n"
   ]
  },
  {
   "cell_type": "code",
   "execution_count": 20,
   "id": "9057757f",
   "metadata": {},
   "outputs": [],
   "source": [
    "# Population mean (hypothetical)\n",
    "population_mean=25"
   ]
  },
  {
   "cell_type": "code",
   "execution_count": 21,
   "id": "62730a6c",
   "metadata": {},
   "outputs": [
    {
     "name": "stdout",
     "output_type": "stream",
     "text": [
      "T- statistic : 0.0\n",
      "P-value 1.0\n"
     ]
    }
   ],
   "source": [
    "# Perform one sample t-test\n",
    "t_stat,p_value=stats.ttest_1samp(sample_data,population_mean)\n",
    "\n",
    "print(\"T- statistic :\",t_stat)\n",
    "print(\"P-value\",p_value)"
   ]
  },
  {
   "cell_type": "code",
   "execution_count": 24,
   "id": "5ec18704",
   "metadata": {},
   "outputs": [
    {
     "name": "stdout",
     "output_type": "stream",
     "text": [
      "There is no significant difference between sample mean and the population mean\n"
     ]
    }
   ],
   "source": [
    "# Check if the result is statistically ssignificant at 95% confidence level\n",
    "if p_value<0.05:\n",
    "    print(\"The sample mean is significantly different from the population mean.\")\n",
    "else:\n",
    "    print(\"There is no significant difference between sample mean and the population mean\")"
   ]
  },
  {
   "cell_type": "markdown",
   "id": "2f7bdbe7",
   "metadata": {},
   "source": [
    "\n",
    "# Random sample\n"
   ]
  },
  {
   "cell_type": "code",
   "execution_count": 25,
   "id": "f65b561a",
   "metadata": {},
   "outputs": [],
   "source": [
    "import random\n"
   ]
  },
  {
   "cell_type": "code",
   "execution_count": 26,
   "id": "d012fbf9",
   "metadata": {},
   "outputs": [],
   "source": [
    "# Sample data\n",
    "population_data=list(range(1,101))\n"
   ]
  },
  {
   "cell_type": "code",
   "execution_count": 28,
   "id": "81d09886",
   "metadata": {},
   "outputs": [
    {
     "name": "stdout",
     "output_type": "stream",
     "text": [
      "Random sample : [97, 75, 83, 98, 32, 21, 6, 46, 85, 18]\n"
     ]
    }
   ],
   "source": [
    "# Randomly select 10 samples from the population\n",
    "sample_size=10\n",
    "random_sample=random.sample(population_data,sample_size)\n",
    "\n",
    "print(\"Random sample :\",random_sample)"
   ]
  },
  {
   "cell_type": "code",
   "execution_count": null,
   "id": "7aa41aa7",
   "metadata": {},
   "outputs": [],
   "source": [
    "\n"
   ]
  },
  {
   "cell_type": "code",
   "execution_count": 29,
   "id": "6a20a03e",
   "metadata": {},
   "outputs": [],
   "source": [
    "import numpy as np\n",
    "import scipy.stats as stats\n",
    "import matplotlib.pyplot as plt"
   ]
  },
  {
   "cell_type": "code",
   "execution_count": 36,
   "id": "06e43d0a",
   "metadata": {},
   "outputs": [],
   "source": [
    "# Sample Data\n",
    "x=np.array([1,2,3,4,5])\n",
    "y=np.array([2,4,6,8,10])\n"
   ]
  },
  {
   "cell_type": "code",
   "execution_count": 37,
   "id": "f54c68c2",
   "metadata": {},
   "outputs": [
    {
     "name": "stdout",
     "output_type": "stream",
     "text": [
      "Correlation Coefficient : 0.9999999999999999\n"
     ]
    }
   ],
   "source": [
    "# Calculate the correlation coefficient\n",
    "correlation_coef=np.corrcoef(x,y)[0,1]\n",
    "print(\"Correlation Coefficient :\",correlation_coef)"
   ]
  },
  {
   "cell_type": "code",
   "execution_count": 49,
   "id": "b6e197ef",
   "metadata": {},
   "outputs": [
    {
     "data": {
      "image/png": "[encoded data removed]",
      "text/plain": [
       "<Figure size 640x480 with 2 Axes>"
      ]
     },
     "metadata": {},
     "output_type": "display_data"
    }
   ],
   "source": [
    "#data_new=np.array([[1,2,3,4,5],[2,4,6,8,10]])\n",
    "data_new=np.array([[1,2],[2,4],[3,6],[4,8],[5,10]])\n",
    "plt.imshow(data_new,cmap='Blues')\n",
    "plt.colorbar()\n",
    "plt.title(\"Heat map\")\n",
    "plt.show()"
   ]
  },
  {
   "cell_type": "code",
   "execution_count": 50,
   "id": "464e6746",
   "metadata": {},
   "outputs": [
    {
     "data": {
      "image/png": "[encoded data removed]",
      "text/plain": [
       "<Figure size 640x480 with 2 Axes>"
      ]
     },
     "metadata": {},
     "output_type": "display_data"
    }
   ],
   "source": [
    "data_new=np.array([[1,2,3,4,5],[2,4,6,8,10]])\n",
    "\n",
    "plt.imshow(data_new,cmap='Blues')\n",
    "plt.colorbar()\n",
    "plt.title(\"Heat map\")\n",
    "plt.show()"
   ]
  },
  {
   "cell_type": "markdown",
   "id": "65126c82",
   "metadata": {},
   "source": [
    "\n",
    "# linear regreession"
   ]
  },
  {
   "cell_type": "code",
   "execution_count": 45,
   "id": "ce0b3a37",
   "metadata": {},
   "outputs": [],
   "source": [
    "# perfom linear regression\n",
    "slope,intercept,r_value,p_value,std_err = stats.linregress(x,y)"
   ]
  },
  {
   "cell_type": "code",
   "execution_count": 46,
   "id": "598a6846",
   "metadata": {},
   "outputs": [],
   "source": [
    "# Predict values using the regression model\n",
    "predicted_y = slope*x+intercept"
   ]
  },
  {
   "cell_type": "code",
   "execution_count": 48,
   "id": "91dc2796",
   "metadata": {},
   "outputs": [
    {
     "data": {
      "image/png": "[encoded data removed]",
      "text/plain": [
       "<Figure size 640x480 with 1 Axes>"
      ]
     },
     "metadata": {},
     "output_type": "display_data"
    }
   ],
   "source": [
    "\n",
    "# Plot the data and regression line\n",
    "plt.scatter(x,y,label='Data')\n",
    "plt.plot(x,predicted_y,color='r',label='Regression Line')\n",
    "plt.legend()\n",
    "plt.xlabel(\"X\")\n",
    "plt.ylabel(\"Y\")\n",
    "plt.show()"
   ]
  },
  {
   "cell_type": "code",
   "execution_count": null,
   "id": "21cc87b9",
   "metadata": {},
   "outputs": [],
   "source": []
  }
 ],
 "metadata": {
  "kernelspec": {
   "display_name": "Python 3 (ipykernel)",
   "language": "python",
   "name": "python3"
  },
  "language_info": {
   "codemirror_mode": {
    "name": "ipython",
    "version": 3
   },
   "file_extension": ".py",
   "mimetype": "text/x-python",
   "name": "python",
   "nbconvert_exporter": "python",
   "pygments_lexer": "ipython3",
   "version": "3.11.3"
  }
 },
 "nbformat": 4,
 "nbformat_minor": 5
}
